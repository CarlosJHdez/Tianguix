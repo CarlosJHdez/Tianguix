{
  "cells": [
    {
      "cell_type": "markdown",
      "metadata": {
        "colab_type": "text",
        "id": "view-in-github"
      },
      "source": [
        "<a href=\"https://colab.research.google.com/github/CarlosJHdez/Tianguix/blob/master/colab-examples/Order_Book_and_order_execution.ipynb\" target=\"_parent\"><img src=\"https://colab.research.google.com/assets/colab-badge.svg\" alt=\"Open In Colab\"/></a>"
      ]
    },
    {
      "cell_type": "markdown",
      "metadata": {
        "id": "GVTGcDi0d_Y_"
      },
      "source": [
        "The fundamental unit of trading is the order book. In the order book the interest of all parties, called orders, is organized in a way that those orders that 'match' can be converted into trades.\n",
        "\n",
        "We will use a library to build books to illustrate that concept"
      ]
    },
    {
      "cell_type": "code",
      "execution_count": null,
      "metadata": {
        "colab": {
          "base_uri": "https://localhost:8080/"
        },
        "id": "WMeM4weJd6FY",
        "outputId": "0ee2bd90-bf7c-464d-da0f-755c843864e3"
      },
      "outputs": [
        {
          "name": "stdout",
          "output_type": "stream",
          "text": [
            "Collecting git+https://github.com/CarlosJHdez/Tianguix\n",
            "  Cloning https://github.com/CarlosJHdez/Tianguix to /tmp/pip-req-build-wz6e_ef7\n",
            "  Running command git clone --filter=blob:none --quiet https://github.com/CarlosJHdez/Tianguix /tmp/pip-req-build-wz6e_ef7\n",
            "  Resolved https://github.com/CarlosJHdez/Tianguix to commit 565b55273fd3e8ab1fa4a13d71048c1186883b6a\n",
            "  Installing build dependencies ... \u001b[?25l\u001b[?25hdone\n",
            "  Getting requirements to build wheel ... \u001b[?25l\u001b[?25hdone\n",
            "  Preparing metadata (pyproject.toml) ... \u001b[?25l\u001b[?25hdone\n"
          ]
        }
      ],
      "source": [
        "# Install the development or testing version of tianguix from GitHub\n",
        "%pip install git+https://github.com/CarlosJHdez/Tianguix"
      ]
    },
    {
      "cell_type": "markdown",
      "metadata": {
        "id": "69B-KL_3pWza"
      },
      "source": [
        "Now, we will create an order book, and then we simulate one seller and one buyer send orders with the same price and size (or quantity)  and see how they get matched. In addition use the python print facility to check that the book looks the way we want it."
      ]
    },
    {
      "cell_type": "code",
      "execution_count": null,
      "metadata": {
        "colab": {
          "base_uri": "https://localhost:8080/"
        },
        "id": "SIahsw7id-ue",
        "outputId": "9127e6a1-ab98-48a6-be35-33943556a526"
      },
      "outputs": [
        {
          "name": "stdout",
          "output_type": "stream",
          "text": [
            "### Adding a Bid Order: 100 shares @ $18.13 ###\n",
            "\n",
            "╔══════════════════════════════════════╗\n",
            "║ BIDS       │   PRICE    │     OFFERS ║\n",
            "╠══════════╪══════════╪══════════╣\n",
            "║ 100        │   18.13    │          - ║\n",
            "╚══════════╧══════════╧══════════╝\n",
            "\n",
            "### Adding a Matching Offer Order: 100 shares @ $18.13 ###\n",
            "\n",
            "╔══════════════════════════════════════╗\n",
            "║ BIDS       │   PRICE    │     OFFERS ║\n",
            "╠══════════╪══════════╪══════════╣\n",
            "║ 100        │   18.13    │        100 ║\n",
            "╚══════════╧══════════╧══════════╝\n",
            "\n",
            "### Now the book should be empty again ###\n",
            "\n",
            "╔══════════════════════════════════════╗\n",
            "║ BIDS       │   PRICE    │     OFFERS ║\n",
            "╠══════════╪══════════╪══════════╣\n",
            "╚══════════╧══════════╧══════════╝\n",
            "\n",
            "### But we should have a trade ###\n",
            "[Trade(size=100, price=18.13, bid_seq=1, ask_seq=2)]\n"
          ]
        }
      ],
      "source": [
        "from tianguix.order_book import OrderBook, Order, Side, Trade\n",
        "\n",
        "# Create an order book\n",
        "book = OrderBook(\"AMXL\")\n",
        "\n",
        "# Use prints to make sure what we want is happening...\n",
        "\n",
        "# Two orders that are the same price and same size, but different 'sides'\n",
        "# (one buy, one sell) are matched immediately at the said price.\n",
        "\n",
        "# Step 1: Add a bid order\n",
        "print(\"### Adding a Bid Order: 100 shares @ $18.13 ###\")\n",
        "book.add_order(Order(size=100, price=18.13, side=Side.BID, sender=\"TraderA\"))\n",
        "print(book.get_order_book_str())\n",
        "\n",
        "# Step 2: Add an offer order that matches the bid\n",
        "print(\"\\n### Adding a Matching Offer Order: 100 shares @ $18.13 ###\")\n",
        "book.add_order(Order(size=100, price=18.13, side=Side.ASK, sender=\"TraderB\"))\n",
        "print(book.get_order_book_str())\n",
        "\n",
        "# Step 3. Match the orders\n",
        "trades = book.match_orders()\n",
        "print(\"\\n### Now the book should be empty again ###\")\n",
        "print(book.get_order_book_str())\n",
        "print(\"\\n### But we should have a trade ###\")\n",
        "print(trades)"
      ]
    },
    {
      "cell_type": "code",
      "execution_count": null,
      "metadata": {
        "colab": {
          "base_uri": "https://localhost:8080/",
          "height": 714
        },
        "id": "qZErjU4I_aJc",
        "outputId": "dca4c31a-f383-41df-fee9-6243b00bdfa9"
      },
      "outputs": [
        {
          "name": "stdout",
          "output_type": "stream",
          "text": [
            "\n",
            "### Adding Two Bid Orders: 100 shares @ $18.12 ###\n"
          ]
        },
        {
          "data": {
            "text/html": [
              "\n",
              "        <div class=\"order-book\">\n",
              "            <h2>OrderBook for Instrument ID AMXL</h2>\n",
              "            <div class=\"bids\">\n",
              "                <h3>Bids</h3>\n",
              "                \n",
              "        <div class=\"order\">\n",
              "            <span>Side: B</span><br>\n",
              "            <span>Size: 100</span><br>\n",
              "            <span>Price: 18.12</span><br>\n",
              "            <span>Sequence: 9</span>\n",
              "        </div>\n",
              "        \n",
              "        <div class=\"order\">\n",
              "            <span>Side: B</span><br>\n",
              "            <span>Size: 100</span><br>\n",
              "            <span>Price: 18.12</span><br>\n",
              "            <span>Sequence: 10</span>\n",
              "        </div>\n",
              "        \n",
              "            </div>\n",
              "            <div class=\"offers\">\n",
              "                <h3>Offers</h3>\n",
              "                \n",
              "            </div>\n",
              "        </div>\n",
              "        "
            ],
            "text/plain": [
              "<IPython.core.display.HTML object>"
            ]
          },
          "metadata": {},
          "output_type": "display_data"
        },
        {
          "data": {
            "text/html": [
              "\n",
              "        <div class=\"order-book\">\n",
              "            <h2>OrderBook for Instrument ID AMXL</h2>\n",
              "            <div class=\"bids\">\n",
              "                <h3>Bids</h3>\n",
              "                \n",
              "        <div class=\"order\">\n",
              "            <span>Side: B</span><br>\n",
              "            <span>Size: 100</span><br>\n",
              "            <span>Price: 18.12</span><br>\n",
              "            <span>Sequence: 9</span>\n",
              "        </div>\n",
              "        \n",
              "        <div class=\"order\">\n",
              "            <span>Side: B</span><br>\n",
              "            <span>Size: 100</span><br>\n",
              "            <span>Price: 18.12</span><br>\n",
              "            <span>Sequence: 10</span>\n",
              "        </div>\n",
              "        \n",
              "            </div>\n",
              "            <div class=\"offers\">\n",
              "                <h3>Offers</h3>\n",
              "                \n",
              "        <div class=\"order\">\n",
              "            <span>Side: A</span><br>\n",
              "            <span>Size: 200</span><br>\n",
              "            <span>Price: 18.12</span><br>\n",
              "            <span>Sequence: 11</span>\n",
              "        </div>\n",
              "        \n",
              "            </div>\n",
              "        </div>\n",
              "        "
            ],
            "text/plain": [
              "<IPython.core.display.HTML object>"
            ]
          },
          "metadata": {},
          "output_type": "display_data"
        },
        {
          "data": {
            "text/html": [
              "\n",
              "        <div class=\"trade\">\n",
              "            <span>Size: 100</span><br>\n",
              "            <span>Price: 18.13</span><br>\n",
              "            <span>Bid Sequence: 1</span><br>\n",
              "            <span>Ask Sequence: 2</span>\n",
              "        </div>\n",
              "        "
            ],
            "text/plain": [
              "<IPython.core.display.HTML object>"
            ]
          },
          "metadata": {},
          "output_type": "display_data"
        }
      ],
      "source": [
        "# Now let's look at the results in nicer html format.\n",
        "from IPython.core.display import display, HTML\n",
        "\n",
        "# Step 1. Add two bid orders of the same size\n",
        "print(\"\\n### Adding Two Bid Orders: 100 shares @ $18.12 ###\")\n",
        "book.add_order(Order(size=100, price=18.12, side=Side.BID, sender=\"TraderA\"))\n",
        "book.add_order(Order(size=100, price=18.12, side=Side.BID, sender=\"TraderB\"))\n",
        "display(HTML(book.to_html()))\n",
        "\n",
        "\n",
        "# Step 5. Add one offer order that matches the bid.\n",
        "book.add_order(Order(size=200, price=18.12, side=Side.ASK, sender=\"TraderC\"))\n",
        "display(HTML(book.to_html()))\n",
        "\n",
        "# Step 6. Match the orders\n",
        "trades=book.match_orders()\n",
        "display(HTML(trades[0].to_html()))"
      ]
    }
  ],
  "metadata": {
    "colab": {
      "authorship_tag": "ABX9TyNPaG8zW7+5RNpb+xZyRtDK",
      "include_colab_link": true,
      "provenance": []
    },
    "kernelspec": {
      "display_name": "Python 3",
      "name": "python3"
    },
    "language_info": {
      "name": "python"
    }
  },
  "nbformat": 4,
  "nbformat_minor": 0
}
